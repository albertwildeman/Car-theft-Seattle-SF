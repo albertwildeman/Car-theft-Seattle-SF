{
 "cells": [
  {
   "cell_type": "markdown",
   "metadata": {},
   "source": [
    "# Title"
   ]
  },
  {
   "cell_type": "markdown",
   "metadata": {},
   "source": [
    "# Load data"
   ]
  },
  {
   "cell_type": "code",
   "execution_count": 1,
   "metadata": {
    "collapsed": false
   },
   "outputs": [],
   "source": [
    "import numpy as np\n",
    "import pandas as pd\n",
    "import matplotlib.pyplot as plt\n",
    "import matplotlib\n",
    "%matplotlib inline\n",
    "matplotlib.rcParams['figure.figsize'] = (15.0, 5.0)\n",
    "\n",
    "\n",
    "\n",
    "# source SPD codes:\n",
    "#https://data.seattle.gov/Public-Safety/SPD-Offense-Codes/22zb-azac/data"
   ]
  },
  {
   "cell_type": "code",
   "execution_count": 2,
   "metadata": {
    "collapsed": false
   },
   "outputs": [
    {
     "data": {
      "text/html": [
       "<div>\n",
       "<table border=\"1\" class=\"dataframe\">\n",
       "  <thead>\n",
       "    <tr style=\"text-align: right;\">\n",
       "      <th></th>\n",
       "      <th>Offense Code</th>\n",
       "      <th>Date</th>\n",
       "    </tr>\n",
       "  </thead>\n",
       "  <tbody>\n",
       "    <tr>\n",
       "      <th>0</th>\n",
       "      <td>2202.0</td>\n",
       "      <td>2014-06-28</td>\n",
       "    </tr>\n",
       "    <tr>\n",
       "      <th>1</th>\n",
       "      <td>2610.0</td>\n",
       "      <td>2014-06-01</td>\n",
       "    </tr>\n",
       "    <tr>\n",
       "      <th>2</th>\n",
       "      <td>2316.0</td>\n",
       "      <td>2014-08-31</td>\n",
       "    </tr>\n",
       "    <tr>\n",
       "      <th>3</th>\n",
       "      <td>2599.0</td>\n",
       "      <td>2014-06-20</td>\n",
       "    </tr>\n",
       "    <tr>\n",
       "      <th>4</th>\n",
       "      <td>2399.0</td>\n",
       "      <td>2014-06-01</td>\n",
       "    </tr>\n",
       "  </tbody>\n",
       "</table>\n",
       "</div>"
      ],
      "text/plain": [
       "   Offense Code        Date\n",
       "0        2202.0  2014-06-28\n",
       "1        2610.0  2014-06-01\n",
       "2        2316.0  2014-08-31\n",
       "3        2599.0  2014-06-20\n",
       "4        2399.0  2014-06-01"
      ]
     },
     "execution_count": 2,
     "metadata": {},
     "output_type": "execute_result"
    }
   ],
   "source": [
    "DF_crime = pd.read_csv('data\\seattle_incidents_summer_2014.csv', low_memory=False)\n",
    "\n",
    "# Trim and format crime data\n",
    "DF_c = DF_crime[['Occurred Date or Date Range Start', 'Offense Code']].copy()\n",
    "DF_c['Offense Code'] = pd.to_numeric(DF_c['Offense Code'], errors='coerce')\n",
    "DF_c['Date'] = pd.to_datetime(DF_c['Occurred Date or Date Range Start']).apply(lambda x: x.date())\n",
    "del DF_c['Occurred Date or Date Range Start']\n",
    "DF_c.head()"
   ]
  },
  {
   "cell_type": "code",
   "execution_count": 3,
   "metadata": {
    "collapsed": false
   },
   "outputs": [
    {
     "data": {
      "text/plain": [
       "(3034, 2)"
      ]
     },
     "execution_count": 3,
     "metadata": {},
     "output_type": "execute_result"
    }
   ],
   "source": [
    "#DF_cviol = DF_c[(DF_c['Offense Code'] ==2305) | (DF_c['Offense Code'] ==2404)]\n",
    "DF_cviol = DF_c[DF_c['Offense Code'] ==2399]\n",
    "DF_cviol.shape"
   ]
  },
  {
   "cell_type": "code",
   "execution_count": 4,
   "metadata": {
    "collapsed": false
   },
   "outputs": [
    {
     "ename": "ValueError",
     "evalue": "x and y must be the same size",
     "output_type": "error",
     "traceback": [
      "\u001b[1;31m---------------------------------------------------------------------------\u001b[0m",
      "\u001b[1;31mValueError\u001b[0m                                Traceback (most recent call last)",
      "\u001b[1;32m<ipython-input-4-76d829a3910f>\u001b[0m in \u001b[0;36m<module>\u001b[1;34m()\u001b[0m\n\u001b[0;32m      5\u001b[0m \u001b[0mDF\u001b[0m\u001b[1;33m.\u001b[0m\u001b[0mWeekday\u001b[0m \u001b[1;33m=\u001b[0m \u001b[0mDF_c\u001b[0m\u001b[1;33m.\u001b[0m\u001b[0mDate\u001b[0m\u001b[1;33m.\u001b[0m\u001b[0mapply\u001b[0m\u001b[1;33m(\u001b[0m\u001b[1;32mlambda\u001b[0m \u001b[0mx\u001b[0m \u001b[1;33m:\u001b[0m \u001b[0mx\u001b[0m\u001b[1;33m.\u001b[0m\u001b[0mweekday\u001b[0m\u001b[1;33m(\u001b[0m\u001b[1;33m)\u001b[0m\u001b[1;33m)\u001b[0m\u001b[1;33m\u001b[0m\u001b[0m\n\u001b[0;32m      6\u001b[0m \u001b[1;33m\u001b[0m\u001b[0m\n\u001b[1;32m----> 7\u001b[1;33m \u001b[0mplt\u001b[0m\u001b[1;33m.\u001b[0m\u001b[0mscatter\u001b[0m\u001b[1;33m(\u001b[0m\u001b[0mx\u001b[0m\u001b[1;33m=\u001b[0m\u001b[0mDF\u001b[0m\u001b[1;33m.\u001b[0m\u001b[0mWeekday\u001b[0m\u001b[1;33m,\u001b[0m \u001b[0my\u001b[0m\u001b[1;33m=\u001b[0m\u001b[0mDF\u001b[0m\u001b[1;33m.\u001b[0m\u001b[0mCRIME\u001b[0m\u001b[1;33m)\u001b[0m\u001b[1;33m\u001b[0m\u001b[0m\n\u001b[0m",
      "\u001b[1;32mC:\\Anaconda3\\lib\\site-packages\\matplotlib\\pyplot.py\u001b[0m in \u001b[0;36mscatter\u001b[1;34m(x, y, s, c, marker, cmap, norm, vmin, vmax, alpha, linewidths, verts, edgecolors, hold, data, **kwargs)\u001b[0m\n\u001b[0;32m   3249\u001b[0m                          \u001b[0mvmin\u001b[0m\u001b[1;33m=\u001b[0m\u001b[0mvmin\u001b[0m\u001b[1;33m,\u001b[0m \u001b[0mvmax\u001b[0m\u001b[1;33m=\u001b[0m\u001b[0mvmax\u001b[0m\u001b[1;33m,\u001b[0m \u001b[0malpha\u001b[0m\u001b[1;33m=\u001b[0m\u001b[0malpha\u001b[0m\u001b[1;33m,\u001b[0m\u001b[1;33m\u001b[0m\u001b[0m\n\u001b[0;32m   3250\u001b[0m                          \u001b[0mlinewidths\u001b[0m\u001b[1;33m=\u001b[0m\u001b[0mlinewidths\u001b[0m\u001b[1;33m,\u001b[0m \u001b[0mverts\u001b[0m\u001b[1;33m=\u001b[0m\u001b[0mverts\u001b[0m\u001b[1;33m,\u001b[0m\u001b[1;33m\u001b[0m\u001b[0m\n\u001b[1;32m-> 3251\u001b[1;33m                          edgecolors=edgecolors, data=data, **kwargs)\n\u001b[0m\u001b[0;32m   3252\u001b[0m     \u001b[1;32mfinally\u001b[0m\u001b[1;33m:\u001b[0m\u001b[1;33m\u001b[0m\u001b[0m\n\u001b[0;32m   3253\u001b[0m         \u001b[0max\u001b[0m\u001b[1;33m.\u001b[0m\u001b[0mhold\u001b[0m\u001b[1;33m(\u001b[0m\u001b[0mwashold\u001b[0m\u001b[1;33m)\u001b[0m\u001b[1;33m\u001b[0m\u001b[0m\n",
      "\u001b[1;32mC:\\Anaconda3\\lib\\site-packages\\matplotlib\\__init__.py\u001b[0m in \u001b[0;36minner\u001b[1;34m(ax, *args, **kwargs)\u001b[0m\n\u001b[0;32m   1809\u001b[0m                     warnings.warn(msg % (label_namer, func.__name__),\n\u001b[0;32m   1810\u001b[0m                                   RuntimeWarning, stacklevel=2)\n\u001b[1;32m-> 1811\u001b[1;33m             \u001b[1;32mreturn\u001b[0m \u001b[0mfunc\u001b[0m\u001b[1;33m(\u001b[0m\u001b[0max\u001b[0m\u001b[1;33m,\u001b[0m \u001b[1;33m*\u001b[0m\u001b[0margs\u001b[0m\u001b[1;33m,\u001b[0m \u001b[1;33m**\u001b[0m\u001b[0mkwargs\u001b[0m\u001b[1;33m)\u001b[0m\u001b[1;33m\u001b[0m\u001b[0m\n\u001b[0m\u001b[0;32m   1812\u001b[0m         \u001b[0mpre_doc\u001b[0m \u001b[1;33m=\u001b[0m \u001b[0minner\u001b[0m\u001b[1;33m.\u001b[0m\u001b[0m__doc__\u001b[0m\u001b[1;33m\u001b[0m\u001b[0m\n\u001b[0;32m   1813\u001b[0m         \u001b[1;32mif\u001b[0m \u001b[0mpre_doc\u001b[0m \u001b[1;32mis\u001b[0m \u001b[1;32mNone\u001b[0m\u001b[1;33m:\u001b[0m\u001b[1;33m\u001b[0m\u001b[0m\n",
      "\u001b[1;32mC:\\Anaconda3\\lib\\site-packages\\matplotlib\\axes\\_axes.py\u001b[0m in \u001b[0;36mscatter\u001b[1;34m(self, x, y, s, c, marker, cmap, norm, vmin, vmax, alpha, linewidths, verts, edgecolors, **kwargs)\u001b[0m\n\u001b[0;32m   3838\u001b[0m         \u001b[0my\u001b[0m \u001b[1;33m=\u001b[0m \u001b[0mnp\u001b[0m\u001b[1;33m.\u001b[0m\u001b[0mma\u001b[0m\u001b[1;33m.\u001b[0m\u001b[0mravel\u001b[0m\u001b[1;33m(\u001b[0m\u001b[0my\u001b[0m\u001b[1;33m)\u001b[0m\u001b[1;33m\u001b[0m\u001b[0m\n\u001b[0;32m   3839\u001b[0m         \u001b[1;32mif\u001b[0m \u001b[0mx\u001b[0m\u001b[1;33m.\u001b[0m\u001b[0msize\u001b[0m \u001b[1;33m!=\u001b[0m \u001b[0my\u001b[0m\u001b[1;33m.\u001b[0m\u001b[0msize\u001b[0m\u001b[1;33m:\u001b[0m\u001b[1;33m\u001b[0m\u001b[0m\n\u001b[1;32m-> 3840\u001b[1;33m             \u001b[1;32mraise\u001b[0m \u001b[0mValueError\u001b[0m\u001b[1;33m(\u001b[0m\u001b[1;34m\"x and y must be the same size\"\u001b[0m\u001b[1;33m)\u001b[0m\u001b[1;33m\u001b[0m\u001b[0m\n\u001b[0m\u001b[0;32m   3841\u001b[0m \u001b[1;33m\u001b[0m\u001b[0m\n\u001b[0;32m   3842\u001b[0m         \u001b[0ms\u001b[0m \u001b[1;33m=\u001b[0m \u001b[0mnp\u001b[0m\u001b[1;33m.\u001b[0m\u001b[0mma\u001b[0m\u001b[1;33m.\u001b[0m\u001b[0mravel\u001b[0m\u001b[1;33m(\u001b[0m\u001b[0ms\u001b[0m\u001b[1;33m)\u001b[0m  \u001b[1;31m# This doesn't have to match x, y in size.\u001b[0m\u001b[1;33m\u001b[0m\u001b[0m\n",
      "\u001b[1;31mValueError\u001b[0m: x and y must be the same size"
     ]
    },
    {
     "data": {
      "image/png": "[encoded data removed]",
      "text/plain": [
       "<matplotlib.figure.Figure at 0x512daee278>"
      ]
     },
     "metadata": {},
     "output_type": "display_data"
    }
   ],
   "source": [
    "# Create new dataframe, with Date, 2 weather columns (precipitation and temperature), and the number of crimes that occurred\n",
    "crimecounts_day = DF_cviol['Date'].value_counts().sort_index()\n",
    "DF = DF_cviol.set_index('Date')\n",
    "DF['CRIME'] = crimecounts_day\n",
    "DF.Weekday = DF_c.Date.apply(lambda x : x.weekday())\n",
    "\n",
    "plt.scatter(x=DF.Weekday, y=DF.CRIME)"
   ]
  },
  {
   "cell_type": "markdown",
   "metadata": {},
   "source": [
    "# Prep DF"
   ]
  },
  {
   "cell_type": "code",
   "execution_count": 22,
   "metadata": {
    "collapsed": false
   },
   "outputs": [
    {
     "data": {
      "text/html": [
       "<div>\n",
       "<table border=\"1\" class=\"dataframe\">\n",
       "  <thead>\n",
       "    <tr style=\"text-align: right;\">\n",
       "      <th></th>\n",
       "      <th>Cars</th>\n",
       "      <th>Bikes</th>\n",
       "      <th>Weekday</th>\n",
       "      <th>Monthday</th>\n",
       "    </tr>\n",
       "  </thead>\n",
       "  <tbody>\n",
       "    <tr>\n",
       "      <th>2014-06-01</th>\n",
       "      <td>122</td>\n",
       "      <td>27</td>\n",
       "      <td>6</td>\n",
       "      <td>1</td>\n",
       "    </tr>\n",
       "    <tr>\n",
       "      <th>2014-06-02</th>\n",
       "      <td>102</td>\n",
       "      <td>38</td>\n",
       "      <td>0</td>\n",
       "      <td>2</td>\n",
       "    </tr>\n",
       "    <tr>\n",
       "      <th>2014-06-03</th>\n",
       "      <td>99</td>\n",
       "      <td>37</td>\n",
       "      <td>1</td>\n",
       "      <td>3</td>\n",
       "    </tr>\n",
       "    <tr>\n",
       "      <th>2014-06-04</th>\n",
       "      <td>106</td>\n",
       "      <td>32</td>\n",
       "      <td>2</td>\n",
       "      <td>4</td>\n",
       "    </tr>\n",
       "    <tr>\n",
       "      <th>2014-06-05</th>\n",
       "      <td>113</td>\n",
       "      <td>42</td>\n",
       "      <td>3</td>\n",
       "      <td>5</td>\n",
       "    </tr>\n",
       "  </tbody>\n",
       "</table>\n",
       "</div>"
      ],
      "text/plain": [
       "            Cars  Bikes  Weekday  Monthday\n",
       "2014-06-01   122     27        6         1\n",
       "2014-06-02   102     38        0         2\n",
       "2014-06-03    99     37        1         3\n",
       "2014-06-04   106     32        2         4\n",
       "2014-06-05   113     42        3         5"
      ]
     },
     "execution_count": 22,
     "metadata": {},
     "output_type": "execute_result"
    }
   ],
   "source": [
    "cars = DF_c.loc[(DF_c['Offense Code']==2305) | (DF_c['Offense Code']==2404), 'Date'].value_counts().sort_index()\n",
    "bikes = DF_c.loc[DF_c['Offense Code']==2399, 'Date'].value_counts().sort_index()\n",
    "\n",
    "DF_cb = pd.concat([cars, bikes], axis=1)\n",
    "DF_cb.columns = ['Cars', 'Bikes']\n",
    "DF_cb['Weekday'] = DF_cb.index\n",
    "DF_cb.Weekday = DF_cb.Weekday.apply(lambda x : x.weekday())\n",
    "\n",
    "DF_cb.head()"
   ]
  },
  {
   "cell_type": "markdown",
   "metadata": {},
   "source": [
    "# Car and bike thefts by weekday\n"
   ]
  },
  {
   "cell_type": "code",
   "execution_count": 37,
   "metadata": {
    "collapsed": false
   },
   "outputs": [
    {
     "data": {
      "text/plain": [
       "[91.38461538461539,\n",
       " 94.6923076923077,\n",
       " 100.92307692307692,\n",
       " 96.15384615384616,\n",
       " 104.38461538461539,\n",
       " 100.92307692307692,\n",
       " 103.64285714285714]"
      ]
     },
     "execution_count": 37,
     "metadata": {},
     "output_type": "execute_result"
    }
   ],
   "source": [
    "car_day = [DF_cb.Cars[DF_cb.Weekday==x].mean() for x in range(7)]\n",
    "bike_day = [DF_cb.Bikes[DF_cb.Weekday==x].mean() for x in range(7)]\n",
    "car_day"
   ]
  },
  {
   "cell_type": "code",
   "execution_count": 38,
   "metadata": {
    "collapsed": false
   },
   "outputs": [
    {
     "data": {
      "image/png": "[encoded data removed]",
      "text/plain": [
       "<matplotlib.figure.Figure at 0x51313124e0>"
      ]
     },
     "metadata": {},
     "output_type": "display_data"
    }
   ],
   "source": [
    "fig, ax = plt.subplots()\n",
    "rects1 = ax.bar(range(7), car_day, color='r') #, yerr=menStd)"
   ]
  },
  {
   "cell_type": "code",
   "execution_count": 36,
   "metadata": {
    "collapsed": false
   },
   "outputs": [
    {
     "data": {
      "image/png": "[encoded data removed]",
      "text/plain": [
       "<matplotlib.figure.Figure at 0x5131176e48>"
      ]
     },
     "metadata": {},
     "output_type": "display_data"
    }
   ],
   "source": [
    "fig, ax = plt.subplots()\n",
    "rects1 = ax.bar(range(7), bike_day, color='r') #, yerr=menStd)"
   ]
  },
  {
   "cell_type": "code",
   "execution_count": 30,
   "metadata": {
    "collapsed": false
   },
   "outputs": [
    {
     "data": {
      "text/plain": [
       "{'boxes': [<matplotlib.lines.Line2D at 0x5130004a90>,\n",
       "  <matplotlib.lines.Line2D at 0x512ff08eb8>,\n",
       "  <matplotlib.lines.Line2D at 0x512ff1f828>,\n",
       "  <matplotlib.lines.Line2D at 0x512ff35198>,\n",
       "  <matplotlib.lines.Line2D at 0x512ff47ac8>,\n",
       "  <matplotlib.lines.Line2D at 0x512ff5e438>,\n",
       "  <matplotlib.lines.Line2D at 0x512ff6a780>],\n",
       " 'caps': [<matplotlib.lines.Line2D at 0x513000cdd8>,\n",
       "  <matplotlib.lines.Line2D at 0x512ff03d30>,\n",
       "  <matplotlib.lines.Line2D at 0x512ff13e48>,\n",
       "  <matplotlib.lines.Line2D at 0x512ff13f60>,\n",
       "  <matplotlib.lines.Line2D at 0x512ff2a7b8>,\n",
       "  <matplotlib.lines.Line2D at 0x512ff2afd0>,\n",
       "  <matplotlib.lines.Line2D at 0x512ff3a9e8>,\n",
       "  <matplotlib.lines.Line2D at 0x512ff41940>,\n",
       "  <matplotlib.lines.Line2D at 0x512ff52a58>,\n",
       "  <matplotlib.lines.Line2D at 0x512ff52b70>,\n",
       "  <matplotlib.lines.Line2D at 0x512efcb198>,\n",
       "  <matplotlib.lines.Line2D at 0x512fdc88d0>,\n",
       "  <matplotlib.lines.Line2D at 0x512ff6ffd0>,\n",
       "  <matplotlib.lines.Line2D at 0x512ff76f28>],\n",
       " 'fliers': [<matplotlib.lines.Line2D at 0x512ff08da0>,\n",
       "  <matplotlib.lines.Line2D at 0x512ff17fd0>,\n",
       "  <matplotlib.lines.Line2D at 0x512ff30f60>,\n",
       "  <matplotlib.lines.Line2D at 0x512ff479b0>,\n",
       "  <matplotlib.lines.Line2D at 0x512ff59be0>,\n",
       "  <matplotlib.lines.Line2D at 0x512ff63f28>,\n",
       "  <matplotlib.lines.Line2D at 0x512ff7cf98>],\n",
       " 'means': [],\n",
       " 'medians': [<matplotlib.lines.Line2D at 0x512ff03e48>,\n",
       "  <matplotlib.lines.Line2D at 0x512ff177b8>,\n",
       "  <matplotlib.lines.Line2D at 0x512ff30128>,\n",
       "  <matplotlib.lines.Line2D at 0x512ff41a58>,\n",
       "  <matplotlib.lines.Line2D at 0x512ff593c8>,\n",
       "  <matplotlib.lines.Line2D at 0x512e4eaa58>,\n",
       "  <matplotlib.lines.Line2D at 0x512ff7c080>],\n",
       " 'whiskers': [<matplotlib.lines.Line2D at 0x5130004c18>,\n",
       "  <matplotlib.lines.Line2D at 0x513000ccc0>,\n",
       "  <matplotlib.lines.Line2D at 0x512ff0ddd8>,\n",
       "  <matplotlib.lines.Line2D at 0x512ff0def0>,\n",
       "  <matplotlib.lines.Line2D at 0x512ff1ff98>,\n",
       "  <matplotlib.lines.Line2D at 0x512ff25f60>,\n",
       "  <matplotlib.lines.Line2D at 0x512ff35f98>,\n",
       "  <matplotlib.lines.Line2D at 0x512ff3a8d0>,\n",
       "  <matplotlib.lines.Line2D at 0x512ff4c9e8>,\n",
       "  <matplotlib.lines.Line2D at 0x512ff4cb00>,\n",
       "  <matplotlib.lines.Line2D at 0x512ff5ec18>,\n",
       "  <matplotlib.lines.Line2D at 0x512efe46d8>,\n",
       "  <matplotlib.lines.Line2D at 0x512ff6aef0>,\n",
       "  <matplotlib.lines.Line2D at 0x512ff6feb8>]}"
      ]
     },
     "execution_count": 30,
     "metadata": {},
     "output_type": "execute_result"
    },
    {
     "data": {
      "image/png": "[encoded data removed]",
      "text/plain": [
       "<matplotlib.figure.Figure at 0x512e52cfd0>"
      ]
     },
     "metadata": {},
     "output_type": "display_data"
    }
   ],
   "source": [
    "#plt.scatter(x=DF.Weekday, y=DF_cb.Cars)\n",
    "#plt.boxplot([DF_cb.Bikes[DF_cb.Weekday==x] for x in range(7)], meanline=True)"
   ]
  },
  {
   "cell_type": "markdown",
   "metadata": {},
   "source": [
    "# bike thefts vs car thefts correlation"
   ]
  },
  {
   "cell_type": "code",
   "execution_count": 6,
   "metadata": {
    "collapsed": false
   },
   "outputs": [
    {
     "data": {
      "text/plain": [
       "<matplotlib.collections.PathCollection at 0x512e518c18>"
      ]
     },
     "execution_count": 6,
     "metadata": {},
     "output_type": "execute_result"
    },
    {
     "data": {
      "image/png": "[encoded data removed]",
      "text/plain": [
       "<matplotlib.figure.Figure at 0x512e3a9588>"
      ]
     },
     "metadata": {},
     "output_type": "display_data"
    }
   ],
   "source": [
    "plt.scatter(DF_cb.Cars, DF_cb.Bikes)"
   ]
  },
  {
   "cell_type": "code",
   "execution_count": 29,
   "metadata": {
    "collapsed": false
   },
   "outputs": [
    {
     "data": {
      "text/plain": [
       "<matplotlib.collections.PathCollection at 0x512efbe940>"
      ]
     },
     "execution_count": 29,
     "metadata": {},
     "output_type": "execute_result"
    },
    {
     "data": {
      "image/png": "[encoded data removed]",
      "text/plain": [
       "<matplotlib.figure.Figure at 0x512fdcddd8>"
      ]
     },
     "metadata": {},
     "output_type": "display_data"
    }
   ],
   "source": [
    "plt.scatter(DF_cb.Weekday, DF_cb.Bikes)"
   ]
  }
 ],
 "metadata": {
  "kernelspec": {
   "display_name": "Python 3",
   "language": "python",
   "name": "python3"
  },
  "language_info": {
   "codemirror_mode": {
    "name": "ipython",
    "version": 3
   },
   "file_extension": ".py",
   "mimetype": "text/x-python",
   "name": "python",
   "nbconvert_exporter": "python",
   "pygments_lexer": "ipython3",
   "version": "3.5.2"
  }
 },
 "nbformat": 4,
 "nbformat_minor": 0
}
