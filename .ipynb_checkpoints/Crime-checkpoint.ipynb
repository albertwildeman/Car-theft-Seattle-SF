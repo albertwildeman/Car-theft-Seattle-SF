{
 "cells": [
  {
   "cell_type": "markdown",
   "metadata": {},
   "source": [
    "# Title"
   ]
  },
  {
   "cell_type": "markdown",
   "metadata": {},
   "source": [
    "# Load data"
   ]
  },
  {
   "cell_type": "code",
   "execution_count": 2,
   "metadata": {
    "collapsed": false
   },
   "outputs": [],
   "source": [
    "import numpy as np\n",
    "import pandas as pd\n",
    "import matplotlib.pyplot as plt\n",
    "import matplotlib\n",
    "%matplotlib inline\n",
    "matplotlib.rcParams['figure.figsize'] = (15.0, 5.0)\n",
    "\n",
    "\n",
    "\n",
    "# source SPD codes:\n",
    "#https://data.seattle.gov/Public-Safety/SPD-Offense-Codes/22zb-azac/data"
   ]
  },
  {
   "cell_type": "code",
   "execution_count": 2,
   "metadata": {
    "collapsed": false
   },
   "outputs": [
    {
     "data": {
      "text/html": [
       "<div>\n",
       "<table border=\"1\" class=\"dataframe\">\n",
       "  <thead>\n",
       "    <tr style=\"text-align: right;\">\n",
       "      <th></th>\n",
       "      <th>DATE</th>\n",
       "      <th>PRCP</th>\n",
       "      <th>TAVG</th>\n",
       "    </tr>\n",
       "  </thead>\n",
       "  <tbody>\n",
       "    <tr>\n",
       "      <th>2030</th>\n",
       "      <td>2014-06-01</td>\n",
       "      <td>0.0</td>\n",
       "      <td>60.0</td>\n",
       "    </tr>\n",
       "    <tr>\n",
       "      <th>2031</th>\n",
       "      <td>2014-06-02</td>\n",
       "      <td>0.0</td>\n",
       "      <td>61.0</td>\n",
       "    </tr>\n",
       "    <tr>\n",
       "      <th>2032</th>\n",
       "      <td>2014-06-03</td>\n",
       "      <td>0.0</td>\n",
       "      <td>59.0</td>\n",
       "    </tr>\n",
       "    <tr>\n",
       "      <th>2033</th>\n",
       "      <td>2014-06-04</td>\n",
       "      <td>0.0</td>\n",
       "      <td>58.0</td>\n",
       "    </tr>\n",
       "    <tr>\n",
       "      <th>2034</th>\n",
       "      <td>2014-06-05</td>\n",
       "      <td>0.0</td>\n",
       "      <td>59.0</td>\n",
       "    </tr>\n",
       "  </tbody>\n",
       "</table>\n",
       "</div>"
      ],
      "text/plain": [
       "           DATE  PRCP  TAVG\n",
       "2030 2014-06-01   0.0  60.0\n",
       "2031 2014-06-02   0.0  61.0\n",
       "2032 2014-06-03   0.0  59.0\n",
       "2033 2014-06-04   0.0  58.0\n",
       "2034 2014-06-05   0.0  59.0"
      ]
     },
     "execution_count": 2,
     "metadata": {},
     "output_type": "execute_result"
    }
   ],
   "source": [
    "DF_weather = pd.read_csv('data\\seattle_weather_NOAA_847609.csv', na_values='-9999')\n",
    "\n",
    "# Trim and format weather data\n",
    "DF_w = DF_weather[-DF_weather['TAVG'].isnull()].loc[:,['DATE', 'PRCP', 'TAVG']]\n",
    "DF_w['DATE'] =  pd.to_datetime(DF_w['DATE'], format = '%Y%m%d')\n",
    "DF_w.head()"
   ]
  },
  {
   "cell_type": "code",
   "execution_count": 3,
   "metadata": {
    "collapsed": false
   },
   "outputs": [
    {
     "data": {
      "text/html": [
       "<div>\n",
       "<table border=\"1\" class=\"dataframe\">\n",
       "  <thead>\n",
       "    <tr style=\"text-align: right;\">\n",
       "      <th></th>\n",
       "      <th>Offense Code</th>\n",
       "      <th>Date</th>\n",
       "    </tr>\n",
       "  </thead>\n",
       "  <tbody>\n",
       "    <tr>\n",
       "      <th>0</th>\n",
       "      <td>2202.0</td>\n",
       "      <td>2014-06-28</td>\n",
       "    </tr>\n",
       "    <tr>\n",
       "      <th>1</th>\n",
       "      <td>2610.0</td>\n",
       "      <td>2014-06-01</td>\n",
       "    </tr>\n",
       "    <tr>\n",
       "      <th>2</th>\n",
       "      <td>2316.0</td>\n",
       "      <td>2014-08-31</td>\n",
       "    </tr>\n",
       "    <tr>\n",
       "      <th>3</th>\n",
       "      <td>2599.0</td>\n",
       "      <td>2014-06-20</td>\n",
       "    </tr>\n",
       "    <tr>\n",
       "      <th>4</th>\n",
       "      <td>2399.0</td>\n",
       "      <td>2014-06-01</td>\n",
       "    </tr>\n",
       "  </tbody>\n",
       "</table>\n",
       "</div>"
      ],
      "text/plain": [
       "   Offense Code        Date\n",
       "0        2202.0  2014-06-28\n",
       "1        2610.0  2014-06-01\n",
       "2        2316.0  2014-08-31\n",
       "3        2599.0  2014-06-20\n",
       "4        2399.0  2014-06-01"
      ]
     },
     "execution_count": 3,
     "metadata": {},
     "output_type": "execute_result"
    }
   ],
   "source": [
    "DF_crime = pd.read_csv('data\\seattle_incidents_summer_2014.csv', low_memory=False)\n",
    "\n",
    "# Trim and format crime data\n",
    "DF_c = DF_crime[['Occurred Date or Date Range Start', 'Offense Code']].copy()\n",
    "DF_c['Offense Code'] = pd.to_numeric(DF_c['Offense Code'], errors='coerce')\n",
    "DF_c['Date'] = pd.to_datetime(DF_c['Occurred Date or Date Range Start']).apply(lambda x: x.date())\n",
    "del DF_c['Occurred Date or Date Range Start']\n",
    "DF_c.head()"
   ]
  },
  {
   "cell_type": "code",
   "execution_count": 4,
   "metadata": {
    "collapsed": false
   },
   "outputs": [
    {
     "data": {
      "text/plain": [
       "(421, 2)"
      ]
     },
     "execution_count": 4,
     "metadata": {},
     "output_type": "execute_result"
    }
   ],
   "source": [
    "#DF_cviol = DF_c[(DF_c['Offense Code'] ==6230) | (DF_c['Offense Code'] ==2588)]\n",
    "DF_cviol = DF_c[DF_c['Offense Code'] ==1305]\n",
    "DF_cviol.shape"
   ]
  },
  {
   "cell_type": "code",
   "execution_count": 5,
   "metadata": {
    "collapsed": false
   },
   "outputs": [
    {
     "ename": "NameError",
     "evalue": "name 'DF_w' is not defined",
     "output_type": "error",
     "traceback": [
      "\u001b[1;31m---------------------------------------------------------------------------\u001b[0m",
      "\u001b[1;31mNameError\u001b[0m                                 Traceback (most recent call last)",
      "\u001b[1;32m<ipython-input-5-41bedcf18952>\u001b[0m in \u001b[0;36m<module>\u001b[1;34m()\u001b[0m\n\u001b[0;32m      1\u001b[0m \u001b[1;31m# Create new dataframe, with Date, 2 weather columns (precipitation and temperature), and the number of crimes that occurred\u001b[0m\u001b[1;33m\u001b[0m\u001b[1;33m\u001b[0m\u001b[0m\n\u001b[0;32m      2\u001b[0m \u001b[0mcrimecounts_day\u001b[0m \u001b[1;33m=\u001b[0m \u001b[0mDF_cviol\u001b[0m\u001b[1;33m[\u001b[0m\u001b[1;34m'Date'\u001b[0m\u001b[1;33m]\u001b[0m\u001b[1;33m.\u001b[0m\u001b[0mvalue_counts\u001b[0m\u001b[1;33m(\u001b[0m\u001b[1;33m)\u001b[0m\u001b[1;33m.\u001b[0m\u001b[0msort_index\u001b[0m\u001b[1;33m(\u001b[0m\u001b[1;33m)\u001b[0m\u001b[1;33m\u001b[0m\u001b[0m\n\u001b[1;32m----> 3\u001b[1;33m \u001b[0mDF\u001b[0m \u001b[1;33m=\u001b[0m \u001b[0mDF_w\u001b[0m\u001b[1;33m.\u001b[0m\u001b[0mset_index\u001b[0m\u001b[1;33m(\u001b[0m\u001b[1;34m'DATE'\u001b[0m\u001b[1;33m)\u001b[0m\u001b[1;33m\u001b[0m\u001b[0m\n\u001b[0m\u001b[0;32m      4\u001b[0m \u001b[0mDF\u001b[0m\u001b[1;33m[\u001b[0m\u001b[1;34m'CRIME'\u001b[0m\u001b[1;33m]\u001b[0m \u001b[1;33m=\u001b[0m \u001b[0mcrimecounts_day\u001b[0m\u001b[1;33m\u001b[0m\u001b[0m\n\u001b[0;32m      5\u001b[0m \u001b[1;33m\u001b[0m\u001b[0m\n",
      "\u001b[1;31mNameError\u001b[0m: name 'DF_w' is not defined"
     ]
    }
   ],
   "source": [
    "# Create new dataframe, with Date, 2 weather columns (precipitation and temperature), and the number of crimes that occurred\n",
    "crimecounts_day = DF_cviol['Date'].value_counts().sort_index()\n",
    "DF = DF_w.set_index('DATE')\n",
    "DF['CRIME'] = crimecounts_day\n",
    "\n",
    "plt.scatter(x=DF.TAVG, y=DF.CRIME)"
   ]
  },
  {
   "cell_type": "code",
   "execution_count": 64,
   "metadata": {
    "collapsed": false
   },
   "outputs": [
    {
     "data": {
      "text/plain": [
       "2305    6230\n",
       "X       3305\n",
       "2399    3034\n",
       "2404    2871\n",
       "2903    1638\n",
       "1313    1368\n",
       "2202    1147\n",
       "2204    1118\n",
       "5015    1021\n",
       "2303     944\n",
       "2308     846\n",
       "2304     682\n",
       "1316     643\n",
       "2203     524\n",
       "5309     523\n",
       "5707     486\n",
       "2610     458\n",
       "2605     443\n",
       "2299     439\n",
       "1305     421\n",
       "2902     419\n",
       "1206     400\n",
       "2699     386\n",
       "2205     372\n",
       "2999     308\n",
       "2316     264\n",
       "5499     252\n",
       "2606     241\n",
       "2599     159\n",
       "2301     146\n",
       "        ... \n",
       "2302       9\n",
       "3599       8\n",
       "4999       8\n",
       "3563       8\n",
       "3899       7\n",
       "1208       7\n",
       "3572       6\n",
       "1311       6\n",
       "5403       6\n",
       "3562       6\n",
       "5311       6\n",
       "5208       6\n",
       "2307       6\n",
       "999        6\n",
       "4002       5\n",
       "3571       5\n",
       "2801       5\n",
       "1310       4\n",
       "3504       4\n",
       "2802       4\n",
       "1312       4\n",
       "5207       3\n",
       "3700       3\n",
       "4901       3\n",
       "1207       3\n",
       "5202       2\n",
       "5214       2\n",
       "911        2\n",
       "3560       2\n",
       "2502       2\n",
       "Name: Offense Code, dtype: int64"
      ]
     },
     "execution_count": 64,
     "metadata": {},
     "output_type": "execute_result"
    }
   ],
   "source": [
    "DF_crime['Offense Code'].value_counts()"
   ]
  },
  {
   "cell_type": "code",
   "execution_count": 78,
   "metadata": {
    "collapsed": false
   },
   "outputs": [
    {
     "data": {
      "text/plain": [
       "THEFT-CARPROWL                    6230\n",
       "VEH-THEFT-AUTO                    2588\n",
       "THEFT-OTH                         2221\n",
       "PROPERTY DAMAGE-NON RESIDENTIA    1638\n",
       "ASSLT-NONAGG                      1320\n",
       "DISTURBANCE-OTH                   1295\n",
       "BURGLARY-FORCE-RES                1147\n",
       "BURGLARY-NOFORCE-RES              1118\n",
       "PROPERTY FOUND                    1069\n",
       "THEFT-SHOPLIFT                     944\n",
       "THEFT-BUILDING                     846\n",
       "THEFT-BICYCLE                      797\n",
       "WARRARR-FELONY                     565\n",
       "BURGLARY-FORCE-NONRES              524\n",
       "HARASSMENT                         523\n",
       "TRESPASS                           486\n",
       "FRAUD-IDENTITY THEFT               458\n",
       "FRAUD-CREDIT CARD                  443\n",
       "ASSLT-AGG-WEAPON                   421\n",
       "PROPERTY DAMAGE-RESIDENTIAL        419\n",
       "WARRARR-MISDEMEANOR                416\n",
       "ROBBERY-STREET-BODYFORCE           400\n",
       "THREATS-OTHER                      389\n",
       "BURGLARY-SECURE PARKING-RES        388\n",
       "BURGLARY-NOFORCE-NONRES            372\n",
       "THEFT-LICENSE PLATE                358\n",
       "PROPERTY DAMAGE - GRAFFITI         308\n",
       "FRAUD-OTHER                        288\n",
       "THEFT-MAIL                         264\n",
       "TRAFFIC                            252\n",
       "                                  ... \n",
       "PROSTITUTION-ASSIST-PROMOTE          5\n",
       "NARC-POSSESS-HALLUCINOGEN            4\n",
       "PROPERTY STOLEN-TRAFFICKING          4\n",
       "HOMICIDE-JUST-GUN                    4\n",
       "ASSLT-AGG-POLICE-BODYFORCE           4\n",
       "NARC-POSSESS-OTHER                   4\n",
       "ROBBERY-BANK-GUN                     4\n",
       "ASSLT-AGG-POLICE-GUN                 4\n",
       "URINATING/DEFECATING-IN PUBLIC       4\n",
       "PORNOGRAPHY-OBSCENE MATERIAL         3\n",
       "ROBBERY-BANK-BODYFORCE               3\n",
       "ROBBERY-RESIDENCE-GUN                3\n",
       "NARC-SELL-SYNTHETIC                  3\n",
       "FIREWORK-POSSESS                     3\n",
       "ESCAPE                               3\n",
       "ROBBERY-BANK-WEAPON                  2\n",
       "NARC-FOUND-OPIUM                     2\n",
       "WEAPON-SELLING                       2\n",
       "NARC-SMUGGLE-OTHER                   2\n",
       "WEAPON-CONCEALED                     2\n",
       "FORGERY-CREDIT CARD                  2\n",
       "VEH-THEFT-OTHVEH                     2\n",
       "HOMICIDE-JUST-WEAPON                 2\n",
       "NARC-POSSESS-PILL/TABLET             2\n",
       "WEAPON-SURRENDER-EXCLUDING FIR       2\n",
       "HOMICIDE-PREMEDITATED-GUN            2\n",
       "DISORDERLY CONDUCT                   2\n",
       "NARC-SELL-MARIJU                     2\n",
       "NARC-FRAUD-PRESCRIPTION              2\n",
       "NARC-FOUND-SYNTHETIC                 2\n",
       "Name: Offense Type, dtype: int64"
      ]
     },
     "execution_count": 78,
     "metadata": {},
     "output_type": "execute_result"
    }
   ],
   "source": [
    "DF_crime['Offense Type'].value_counts()"
   ]
  }
 ],
 "metadata": {
  "kernelspec": {
   "display_name": "Python 3",
   "language": "python",
   "name": "python3"
  },
  "language_info": {
   "codemirror_mode": {
    "name": "ipython",
    "version": 3
   },
   "file_extension": ".py",
   "mimetype": "text/x-python",
   "name": "python",
   "nbconvert_exporter": "python",
   "pygments_lexer": "ipython3",
   "version": "3.5.2"
  }
 },
 "nbformat": 4,
 "nbformat_minor": 0
}
